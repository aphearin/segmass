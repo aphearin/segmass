{
 "cells": [
  {
   "cell_type": "code",
   "execution_count": 1,
   "metadata": {
    "collapsed": true
   },
   "outputs": [],
   "source": [
    "%matplotlib inline"
   ]
  },
  {
   "cell_type": "markdown",
   "metadata": {},
   "source": [
    "## Make cut on subhalo mass at $M_{\\rm peak} >= 10^{11.25}M_{\\odot}$"
   ]
  },
  {
   "cell_type": "code",
   "execution_count": 4,
   "metadata": {
    "collapsed": true
   },
   "outputs": [],
   "source": [
    "from halotools.sim_manager import CachedHaloCatalog, UserSuppliedHaloCatalog\n",
    "halocat = CachedHaloCatalog(simname='bolplanck')\n",
    "\n",
    "metadata = dict(Lbox=halocat.Lbox, \n",
    "               particle_mass=halocat.particle_mass, \n",
    "               redshift=halocat.redshift)\n",
    "\n",
    "subhalo_mpeak_cut = 10**11.25\n",
    "\n",
    "mask = halocat.halo_table['halo_mpeak'] > subhalo_mpeak_cut\n",
    "halo_catalog_columns = {key: halocat.halo_table[key][mask] for key in halocat.halo_table.keys()}\n",
    "halo_catalog_columns.update(metadata)\n",
    "halocat = UserSuppliedHaloCatalog(**halo_catalog_columns)"
   ]
  },
  {
   "cell_type": "code",
   "execution_count": 11,
   "metadata": {},
   "outputs": [
    {
     "ename": "HalotoolsError",
     "evalue": "The occupation component of gal_type = ``satellites`` galaxies \nhas a ``central_occupation_model`` attribute with an inconsistent \nimplementation with the Leauthaud11Sats class controlling the occupation statistics of the ``centrals`` population.\nIf you use the ``cenocc_model`` feature, you must build a \ncomposite model with a self-consistent population of centrals.\n",
     "output_type": "error",
     "traceback": [
      "\u001b[0;31m---------------------------------------------------------------------------\u001b[0m",
      "\u001b[0;31mHalotoolsError\u001b[0m                            Traceback (most recent call last)",
      "\u001b[0;32m<ipython-input-11-8eeda13f3aa6>\u001b[0m in \u001b[0;36m<module>\u001b[0;34m()\u001b[0m\n\u001b[1;32m     31\u001b[0m                         \u001b[0msatellites_stellar_mass\u001b[0m\u001b[0;34m=\u001b[0m\u001b[0mcsmf_model_satellites\u001b[0m\u001b[0;34m,\u001b[0m\u001b[0;34m\u001b[0m\u001b[0m\n\u001b[1;32m     32\u001b[0m                         \u001b[0msatellites_profile\u001b[0m\u001b[0;34m=\u001b[0m\u001b[0mseg_nfw\u001b[0m\u001b[0;34m,\u001b[0m\u001b[0;34m\u001b[0m\u001b[0m\n\u001b[0;32m---> 33\u001b[0;31m                        model_feature_calling_sequence=model_feature_calling_sequence)\n\u001b[0m",
      "\u001b[0;32m/Users/aphearin/anaconda/lib/python2.7/site-packages/halotools-0.5.dev4557-py2.7-macosx-10.9-x86_64.egg/halotools/empirical_models/factories/hod_model_factory.pyc\u001b[0m in \u001b[0;36m__init__\u001b[0;34m(self, **kwargs)\u001b[0m\n\u001b[1;32m    229\u001b[0m             \u001b[0mself\u001b[0m\u001b[0;34m.\u001b[0m\u001b[0mmodel_dictionary\u001b[0m\u001b[0;34m[\u001b[0m\u001b[0mkey\u001b[0m\u001b[0;34m]\u001b[0m \u001b[0;34m=\u001b[0m \u001b[0mcopy\u001b[0m\u001b[0;34m(\u001b[0m\u001b[0mself\u001b[0m\u001b[0;34m.\u001b[0m\u001b[0m_input_model_dictionary\u001b[0m\u001b[0;34m[\u001b[0m\u001b[0mkey\u001b[0m\u001b[0;34m]\u001b[0m\u001b[0;34m)\u001b[0m\u001b[0;34m\u001b[0m\u001b[0m\n\u001b[1;32m    230\u001b[0m \u001b[0;34m\u001b[0m\u001b[0m\n\u001b[0;32m--> 231\u001b[0;31m         \u001b[0mself\u001b[0m\u001b[0;34m.\u001b[0m\u001b[0m_test_censat_occupation_consistency\u001b[0m\u001b[0;34m(\u001b[0m\u001b[0mself\u001b[0m\u001b[0;34m.\u001b[0m\u001b[0mmodel_dictionary\u001b[0m\u001b[0;34m)\u001b[0m\u001b[0;34m\u001b[0m\u001b[0m\n\u001b[0m\u001b[1;32m    232\u001b[0m \u001b[0;34m\u001b[0m\u001b[0m\n\u001b[1;32m    233\u001b[0m         \u001b[0;31m# Build up and bind several lists from the component models\u001b[0m\u001b[0;34m\u001b[0m\u001b[0;34m\u001b[0m\u001b[0m\n",
      "\u001b[0;32m/Users/aphearin/anaconda/lib/python2.7/site-packages/halotools-0.5.dev4557-py2.7-macosx-10.9-x86_64.egg/halotools/empirical_models/factories/hod_model_factory.pyc\u001b[0m in \u001b[0;36m_test_censat_occupation_consistency\u001b[0;34m(self, model_dictionary)\u001b[0m\n\u001b[1;32m   1078\u001b[0m                         \"composite model with a self-consistent population of centrals.\\n\".format(\n\u001b[1;32m   1079\u001b[0m                             component_model.gal_type, component_model.__class__.__name__))\n\u001b[0;32m-> 1080\u001b[0;31m                     \u001b[0;32mraise\u001b[0m \u001b[0mHalotoolsError\u001b[0m\u001b[0;34m(\u001b[0m\u001b[0mmsg\u001b[0m\u001b[0;34m)\u001b[0m\u001b[0;34m\u001b[0m\u001b[0m\n\u001b[0m\u001b[1;32m   1081\u001b[0m \u001b[0;34m\u001b[0m\u001b[0m\n\u001b[1;32m   1082\u001b[0m     \u001b[0;32mdef\u001b[0m \u001b[0m_test_additional_kwargs_dict\u001b[0m\u001b[0;34m(\u001b[0m\u001b[0mself\u001b[0m\u001b[0;34m,\u001b[0m \u001b[0m_additional_kwargs_dict\u001b[0m\u001b[0;34m)\u001b[0m\u001b[0;34m:\u001b[0m\u001b[0;34m\u001b[0m\u001b[0m\n",
      "\u001b[0;31mHalotoolsError\u001b[0m: The occupation component of gal_type = ``satellites`` galaxies \nhas a ``central_occupation_model`` attribute with an inconsistent \nimplementation with the Leauthaud11Sats class controlling the occupation statistics of the ``centrals`` population.\nIf you use the ``cenocc_model`` feature, you must build a \ncomposite model with a self-consistent population of centrals.\n"
     ]
    }
   ],
   "source": [
    "from halotools.empirical_models import PrebuiltHodModelFactory, HodModelFactory\n",
    "baseline_model = PrebuiltHodModelFactory('leauthaud11', redshift=0, threshold=9.5, \n",
    "                                        prim_haloprop_key='halo_mpeak')\n",
    "\n",
    "from segregated_nfw_phase_space import SegregatedNFWPhaseSpace\n",
    "seg_nfw = SegregatedNFWPhaseSpace(prim_haloprop_key='halo_mpeak')\n",
    "\n",
    "from halotools.empirical_models import SubhaloPhaseSpace\n",
    "host_haloprop_bins = np.logspace(10.6, 15.15, 10)\n",
    "d = dict(halo_id=('halo_id', 'i8'), \n",
    "        halo_mpeak=('halo_mpeak', 'f8'))\n",
    "satellites_mpeak = SubhaloPhaseSpace('satellites', host_haloprop_bins,\n",
    "                                        inherited_subhalo_props_dict=d)\n",
    "\n",
    "\n",
    "from csmf_from_hod import StellarMassLeauthaud11HOD\n",
    "csmf_model_centrals = StellarMassLeauthaud11HOD('centrals', prim_haloprop_key='halo_mpeak',\n",
    "                                                threshold=baseline_model.threshold)\n",
    "csmf_model_satellites = StellarMassLeauthaud11HOD('satellites', prim_haloprop_key='halo_mpeak',\n",
    "                                                  threshold=baseline_model.threshold)\n",
    "\n",
    "\n",
    "model_feature_calling_sequence = list(('centrals_occupation', 'satellites_occupation', \n",
    "                                       'centrals_stellar_mass', 'centrals_profile', \n",
    "                                      'satellites_mpeak', 'satellites_stellar_mass', \n",
    "                                      'satellites_profile'))\n",
    "\n",
    "model = HodModelFactory(baseline_model_instance=baseline_model, \n",
    "                        centrals_stellar_mass=csmf_model_centrals, \n",
    "                        satellites_mpeak=satellites_mpeak, \n",
    "                        satellites_stellar_mass=csmf_model_satellites, \n",
    "                        satellites_profile=seg_nfw, \n",
    "                       model_feature_calling_sequence=model_feature_calling_sequence)\n"
   ]
  },
  {
   "cell_type": "code",
   "execution_count": null,
   "metadata": {},
   "outputs": [],
   "source": [
    "from csmf_from_hod import StellarMassLeauthaud11HOD\n",
    "csmf_model = StellarMassLeauthaud11HOD(threshold=9)\n",
    "\n",
    "sm = model.assign_stellar_mass(prim_haloprop=np.zeros(int(1e5))+1e12)\n",
    "\n",
    "fig, ax = plt.subplots(1, 1)\n",
    "\n",
    "__=ax.hist(np.log10(sm), bins=100)"
   ]
  },
  {
   "cell_type": "code",
   "execution_count": null,
   "metadata": {},
   "outputs": [],
   "source": []
  },
  {
   "cell_type": "code",
   "execution_count": null,
   "metadata": {
    "collapsed": true
   },
   "outputs": [],
   "source": []
  }
 ],
 "metadata": {
  "kernelspec": {
   "display_name": "Python [conda root]",
   "language": "python",
   "name": "conda-root-py"
  },
  "language_info": {
   "codemirror_mode": {
    "name": "ipython",
    "version": 2
   },
   "file_extension": ".py",
   "mimetype": "text/x-python",
   "name": "python",
   "nbconvert_exporter": "python",
   "pygments_lexer": "ipython2",
   "version": "2.7.13"
  }
 },
 "nbformat": 4,
 "nbformat_minor": 2
}
