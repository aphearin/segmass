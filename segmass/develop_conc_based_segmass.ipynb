{
 "cells": [
  {
   "cell_type": "code",
   "execution_count": 1,
   "metadata": {
    "collapsed": true
   },
   "outputs": [],
   "source": [
    "%matplotlib inline\n",
    "\n",
    "from scipy.special import erf, erfinv\n",
    "from scipy.stats import norm\n",
    "\n",
    "def _percentile_from_z_score(z_score):\n",
    "    return 0.5*(1 + erf(z_score/np.sqrt(2)))\n",
    "\n",
    "def _z_score_from_percentile(percentile):\n",
    "    return np.sqrt(2)*erfinv(2*percentile-1)"
   ]
  },
  {
   "cell_type": "code",
   "execution_count": 2,
   "metadata": {
    "collapsed": true
   },
   "outputs": [],
   "source": [
    "from segregated_nfw_phase_space import SegregatedNFWPhaseSpace\n",
    "seg_nfw = SegregatedNFWPhaseSpace()\n",
    "\n",
    "from halotools.empirical_models import PrebuiltHodModelFactory, HodModelFactory\n",
    "baseline_model = PrebuiltHodModelFactory('leauthaud11', redshift=0, threshold=9.5)\n",
    "\n",
    "model = HodModelFactory(baseline_model_instance=baseline_model, \n",
    "                       satellites_profile=seg_nfw)"
   ]
  },
  {
   "cell_type": "code",
   "execution_count": 3,
   "metadata": {},
   "outputs": [],
   "source": [
    "from halotools.sim_manager import CachedHaloCatalog, UserSuppliedHaloCatalog\n",
    "halocat = CachedHaloCatalog(simname='bolplanck')\n",
    "\n",
    "metadata = dict(Lbox=halocat.Lbox, \n",
    "               particle_mass=halocat.particle_mass, \n",
    "               redshift=halocat.redshift)\n",
    "\n",
    "mask = halocat.halo_table['halo_mpeak'] > 10**11.25\n",
    "halo_catalog_columns = {key: halocat.halo_table[key][mask] for key in halocat.halo_table.keys()}\n",
    "halo_catalog_columns.update(metadata)\n",
    "halocat = UserSuppliedHaloCatalog(**halo_catalog_columns)"
   ]
  },
  {
   "cell_type": "code",
   "execution_count": 4,
   "metadata": {},
   "outputs": [],
   "source": [
    "from halotools.empirical_models import SubhaloPhaseSpace\n",
    "\n",
    "\n",
    "host_haloprop_bins = np.logspace(10.6, 15.15, 10)\n",
    "subhalo_phase_space = SubhaloPhaseSpace('satellites', host_haloprop_bins)\n",
    "\n",
    "model = HodModelFactory(baseline_model_instance=baseline_model, \n",
    "                       satellites_profile=subhalo_phase_space)\n",
    "\n",
    "model.populate_mock(halocat)"
   ]
  },
  {
   "cell_type": "code",
   "execution_count": 5,
   "metadata": {},
   "outputs": [],
   "source": [
    "d = dict(halo_id=('halo_id', 'i8'), \n",
    "        halo_mpeak=('halo_mpeak', 'f8'))\n",
    "subhalo_phase_space = SubhaloPhaseSpace('satellites', host_haloprop_bins,\n",
    "                                        inherited_subhalo_props_dict=d)\n",
    "\n",
    "from halotools.empirical_models import NFWPhaseSpace\n",
    "unbiased_nfw = NFWPhaseSpace()\n",
    "\n",
    "\n",
    "model_feature_calling_sequence = ['centrals_occupation', 'satellites_occupation', \n",
    "                                 'centrals_profile', 'satellites_profile', 'satellites_profile2']\n",
    "model = HodModelFactory(baseline_model_instance=baseline_model, \n",
    "                       satellites_profile=subhalo_phase_space, \n",
    "                       satellites_profile2=unbiased_nfw, \n",
    "                       model_feature_calling_sequence=model_feature_calling_sequence)\n"
   ]
  },
  {
   "cell_type": "code",
   "execution_count": 6,
   "metadata": {
    "collapsed": true
   },
   "outputs": [],
   "source": [
    "model.populate_mock(halocat)"
   ]
  },
  {
   "cell_type": "code",
   "execution_count": 7,
   "metadata": {
    "collapsed": true
   },
   "outputs": [],
   "source": [
    "model.mock.populate()\n",
    "gals = model.mock.galaxy_table\n",
    "sats = gals[gals['gal_type'] == 'satellites']\n",
    "cens = gals[gals['gal_type'] == 'centrals']"
   ]
  },
  {
   "cell_type": "code",
   "execution_count": 8,
   "metadata": {},
   "outputs": [
    {
     "name": "stdout",
     "output_type": "stream",
     "text": [
      "['halo_upid', 'halo_mvir_host_halo_bin_number', 'halo_num_satellites', 'halo_hostid', 'halo_mpeak', 'conc_NFWmodel', 'halo_num_centrals', 'halo_y', 'halo_x', 'halo_id', 'halo_vx', 'halo_vy', 'halo_vz', '_subhalo_inheritance_id', 'halo_mvir_host_halo', 'halo_rvir', 'halo_z', 'halo_mvir', 'gal_type', 'vx', 'host_centric_distance', 'vy', 'y', 'x', 'vz', 'z', 'real_subhalo']\n"
     ]
    }
   ],
   "source": [
    "print(gals.keys())"
   ]
  },
  {
   "cell_type": "code",
   "execution_count": 9,
   "metadata": {},
   "outputs": [
    {
     "data": {
      "image/png": "[encoded data removed]",
      "text/plain": [
       "<matplotlib.figure.Figure at 0x12f2d7810>"
      ]
     },
     "metadata": {},
     "output_type": "display_data"
    }
   ],
   "source": [
    "fig, ax = plt.subplots(1, 1)\n",
    "\n",
    "__=ax.hist(np.log10(cens['halo_mpeak']), \n",
    "           bins=np.linspace(11, 15, 50), color=blue, normed=True)\n",
    "__=ax.hist(np.log10(sats['halo_mpeak']), \n",
    "           bins=np.linspace(11, 15, 50), color=red, normed=True)\n"
   ]
  },
  {
   "cell_type": "code",
   "execution_count": 10,
   "metadata": {},
   "outputs": [
    {
     "data": {
      "text/plain": [
       "11.250175936209791"
      ]
     },
     "execution_count": 10,
     "metadata": {},
     "output_type": "execute_result"
    }
   ],
   "source": [
    "np.log10(gals['halo_mpeak'].min())"
   ]
  },
  {
   "cell_type": "code",
   "execution_count": 11,
   "metadata": {},
   "outputs": [
    {
     "data": {
      "text/plain": [
       "10.873811020894768"
      ]
     },
     "execution_count": 11,
     "metadata": {},
     "output_type": "execute_result"
    }
   ],
   "source": [
    "model.mean_log_halo_mass_centrals(log_stellar_mass=8.5)"
   ]
  },
  {
   "cell_type": "code",
   "execution_count": 12,
   "metadata": {
    "collapsed": true
   },
   "outputs": [],
   "source": [
    "mean_sm = model.mean_stellar_mass_centrals(prim_haloprop=sats['halo_mpeak'])"
   ]
  },
  {
   "cell_type": "code",
   "execution_count": 13,
   "metadata": {},
   "outputs": [
    {
     "data": {
      "text/plain": [
       "9.3612049288262398"
      ]
     },
     "execution_count": 13,
     "metadata": {},
     "output_type": "execute_result"
    }
   ],
   "source": [
    "np.min(np.log10(mean_sm))"
   ]
  },
  {
   "cell_type": "code",
   "execution_count": 14,
   "metadata": {},
   "outputs": [
    {
     "data": {
      "image/png": "[encoded data removed]",
      "text/plain": [
       "<matplotlib.figure.Figure at 0x11cc740d0>"
      ]
     },
     "metadata": {},
     "output_type": "display_data"
    }
   ],
   "source": [
    "fig, ax = plt.subplots(1, 1)\n",
    "\n",
    "__=ax.hist(np.log10(mean_sm), bins=np.linspace(8, 12, 50))"
   ]
  },
  {
   "cell_type": "code",
   "execution_count": 15,
   "metadata": {},
   "outputs": [
    {
     "data": {
      "text/plain": [
       "(0.69404717169501207, 1.2795633385642475, 4.1112113857351682)"
      ]
     },
     "execution_count": 15,
     "metadata": {},
     "output_type": "execute_result"
    }
   ],
   "source": [
    "zmax = (model.threshold - np.min(np.log10(mean_sm)))/0.2\n",
    "u = np.random.uniform(_percentile_from_z_score(zmax), 1, int(1e4))\n",
    "\n",
    "r = norm.isf(1 - u)\n",
    "\n",
    "r.min(), r.mean(), r.max()"
   ]
  },
  {
   "cell_type": "code",
   "execution_count": 16,
   "metadata": {},
   "outputs": [
    {
     "data": {
      "text/plain": [
       "{'alphasat': 1.0,\n",
       " 'bcut': 1.47,\n",
       " 'betacut': -0.13,\n",
       " 'betasat': 0.859,\n",
       " 'bsat': 10.62,\n",
       " u'scatter_model_param1': 0.2,\n",
       " u'smhm_beta_0': 0.43,\n",
       " u'smhm_beta_a': 0.18,\n",
       " u'smhm_delta_0': 0.56,\n",
       " u'smhm_delta_a': 0.18,\n",
       " u'smhm_gamma_0': 1.54,\n",
       " u'smhm_gamma_a': 2.52,\n",
       " u'smhm_m0_0': 10.72,\n",
       " u'smhm_m0_a': 0.59,\n",
       " u'smhm_m1_0': 12.35,\n",
       " u'smhm_m1_a': 0.3}"
      ]
     },
     "execution_count": 16,
     "metadata": {},
     "output_type": "execute_result"
    }
   ],
   "source": [
    "model.param_dict"
   ]
  },
  {
   "cell_type": "code",
   "execution_count": 17,
   "metadata": {
    "collapsed": true
   },
   "outputs": [],
   "source": [
    "mean_logsm = np.log10(model.mean_stellar_mass_centrals(prim_haloprop=gals['halo_mpeak']))"
   ]
  },
  {
   "cell_type": "code",
   "execution_count": 18,
   "metadata": {},
   "outputs": [
    {
     "data": {
      "text/plain": [
       "(-0.6939753558688011, 2.6804790756672143, 9.007924106733034)"
      ]
     },
     "execution_count": 18,
     "metadata": {},
     "output_type": "execute_result"
    }
   ],
   "source": [
    "dlogsm = (mean_logsm - model.threshold)\n",
    "dlogsm_zscore = dlogsm/model.param_dict[u'scatter_model_param1']\n",
    "\n",
    "dlogsm_zscore.min(), dlogsm_zscore.mean(), dlogsm_zscore.max()"
   ]
  },
  {
   "cell_type": "code",
   "execution_count": 19,
   "metadata": {},
   "outputs": [
    {
     "data": {
      "text/plain": [
       "(0.24384883200203866, 0.90324656758964683, 1.0)"
      ]
     },
     "execution_count": 19,
     "metadata": {},
     "output_type": "execute_result"
    }
   ],
   "source": [
    "dlogsm_percentile = _percentile_from_z_score(dlogsm_zscore)\n",
    "\n",
    "dlogsm_percentile.min(), dlogsm_percentile.mean(), dlogsm_percentile.max()"
   ]
  },
  {
   "cell_type": "code",
   "execution_count": 20,
   "metadata": {},
   "outputs": [],
   "source": [
    "u = 1 - np.random.uniform(0, dlogsm_percentile)\n",
    "logsm = norm.isf(1 - u, loc=mean_logsm, \n",
    "              scale=model.param_dict[u'scatter_model_param1'])"
   ]
  },
  {
   "cell_type": "code",
   "execution_count": 21,
   "metadata": {},
   "outputs": [
    {
     "data": {
      "text/plain": [
       "(9.500001695382208, 10.069003042439933, 11.692565839439901)"
      ]
     },
     "execution_count": 21,
     "metadata": {},
     "output_type": "execute_result"
    }
   ],
   "source": [
    "logsm.min(), logsm.mean(), logsm.max()"
   ]
  },
  {
   "cell_type": "code",
   "execution_count": 22,
   "metadata": {},
   "outputs": [
    {
     "data": {
      "image/png": "[encoded data removed]",
      "text/plain": [
       "<matplotlib.figure.Figure at 0x14cd145d0>"
      ]
     },
     "metadata": {},
     "output_type": "display_data"
    }
   ],
   "source": [
    "fig, ax = plt.subplots(1, 1)\n",
    "\n",
    "__=ax.hist(logsm, bins=np.linspace(9.5, 11.5, 100), normed=True)"
   ]
  },
  {
   "cell_type": "code",
   "execution_count": 23,
   "metadata": {},
   "outputs": [
    {
     "data": {
      "image/png": "[encoded data removed]",
      "text/plain": [
       "<matplotlib.figure.Figure at 0x14a3b6250>"
      ]
     },
     "metadata": {},
     "output_type": "display_data"
    }
   ],
   "source": [
    "from halotools.empirical_models import Behroozi10SmHm\n",
    "behroozi = Behroozi10SmHm()\n",
    "\n",
    "bsm = behroozi.mc_stellar_mass(prim_haloprop=halocat.halo_table['halo_mpeak'], redshift=0)\n",
    "beh_mask = bsm > 10**9.5\n",
    "beh_mpeak = halocat.halo_table['halo_mpeak'][beh_mask]\n",
    "beh_sm = bsm[beh_mask]\n",
    "\n",
    "fig, ax = plt.subplots(1, 1)\n",
    "\n",
    "__=ax.hist(np.log10(beh_sm), bins=np.linspace(9.5, 11.5, 100), normed=True, color=blue)\n",
    "__=ax.hist(logsm, bins=np.linspace(9.5, 11.5, 100), normed=True, color=red, alpha=0.7)"
   ]
  },
  {
   "cell_type": "code",
   "execution_count": 43,
   "metadata": {},
   "outputs": [
    {
     "data": {
      "image/png": "[encoded data removed]",
      "text/plain": [
       "<matplotlib.figure.Figure at 0x12d3e9e90>"
      ]
     },
     "metadata": {},
     "output_type": "display_data"
    }
   ],
   "source": [
    "fig, ax = plt.subplots(1, 1)\n",
    "\n",
    "x = np.log10(beh_mpeak)\n",
    "y = np.log10(beh_sm)\n",
    "len(beh_sm), len(beh_mask)\n",
    "__=ax.scatter(x[::50], y[::50], s=0.5, color=blue)\n",
    "\n",
    "x2 = np.log10(gals['halo_mpeak'])\n",
    "y2 = logsm\n",
    "__=ax.scatter(x2[::50], y2[::50], s=0.5, color=red)\n"
   ]
  },
  {
   "cell_type": "code",
   "execution_count": 24,
   "metadata": {},
   "outputs": [
    {
     "data": {
      "image/png": "[encoded data removed]",
      "text/plain": [
       "<matplotlib.figure.Figure at 0x12d3eb610>"
      ]
     },
     "metadata": {},
     "output_type": "display_data"
    }
   ],
   "source": [
    "fig, ax = plt.subplots(1, 1)\n",
    "\n",
    "__=ax.hist(dlogsm_percentile)"
   ]
  },
  {
   "cell_type": "code",
   "execution_count": 25,
   "metadata": {},
   "outputs": [
    {
     "data": {
      "text/plain": [
       "-0.6939753558688011"
      ]
     },
     "execution_count": 25,
     "metadata": {},
     "output_type": "execute_result"
    }
   ],
   "source": [
    "_z_score_from_percentile(dlogsm_percentile.min())"
   ]
  },
  {
   "cell_type": "code",
   "execution_count": null,
   "metadata": {
    "collapsed": true
   },
   "outputs": [],
   "source": []
  }
 ],
 "metadata": {
  "anaconda-cloud": {},
  "kernelspec": {
   "display_name": "Python [conda root]",
   "language": "python",
   "name": "conda-root-py"
  },
  "language_info": {
   "codemirror_mode": {
    "name": "ipython",
    "version": 2
   },
   "file_extension": ".py",
   "mimetype": "text/x-python",
   "name": "python",
   "nbconvert_exporter": "python",
   "pygments_lexer": "ipython2",
   "version": "2.7.13"
  }
 },
 "nbformat": 4,
 "nbformat_minor": 2
}
