{
 "cells": [
  {
   "cell_type": "code",
   "execution_count": 1,
   "metadata": {
    "collapsed": true
   },
   "outputs": [],
   "source": [
    "%matplotlib inline"
   ]
  },
  {
   "cell_type": "code",
   "execution_count": 11,
   "metadata": {
    "collapsed": true
   },
   "outputs": [],
   "source": [
    "from segregated_nfw_phase_space import SegregatedNFWPhaseSpace\n",
    "seg_nfw = SegregatedNFWPhaseSpace()\n",
    "\n",
    "from halotools.empirical_models import PrebuiltHodModelFactory, HodModelFactory\n",
    "baseline_model = PrebuiltHodModelFactory('leauthaud11', redshift=0, threshold=10)\n",
    "\n",
    "model = HodModelFactory(baseline_model_instance=baseline_model, \n",
    "                       satellites_profile=seg_nfw)"
   ]
  },
  {
   "cell_type": "code",
   "execution_count": 12,
   "metadata": {},
   "outputs": [],
   "source": [
    "from halotools.sim_manager import CachedHaloCatalog\n",
    "halocat = CachedHaloCatalog(simname='bolplanck', redshift=0)"
   ]
  },
  {
   "cell_type": "code",
   "execution_count": 13,
   "metadata": {},
   "outputs": [],
   "source": [
    "# model.populate_mock(halocat)"
   ]
  },
  {
   "cell_type": "code",
   "execution_count": 21,
   "metadata": {},
   "outputs": [],
   "source": [
    "from halotools.empirical_models import SubhaloPhaseSpace\n",
    "\n",
    "\n",
    "host_haloprop_bins = np.logspace(10.6, 15.15, 25)\n",
    "subhalo_phase_space = SubhaloPhaseSpace('satellites', host_haloprop_bins)\n",
    "\n",
    "model = HodModelFactory(baseline_model_instance=baseline_model, \n",
    "                       satellites_profile=subhalo_phase_space)\n",
    "\n",
    "model.populate_mock(halocat)"
   ]
  },
  {
   "cell_type": "code",
   "execution_count": 28,
   "metadata": {},
   "outputs": [],
   "source": [
    "d = dict(halo_id=('halo_id', 'i8'), \n",
    "        halo_mpeak=('halo_mpeak', 'f8'))\n",
    "subhalo_phase_space = SubhaloPhaseSpace('satellites', host_haloprop_bins,\n",
    "                                        inherited_subhalo_props_dict=d)\n",
    "\n",
    "from halotools.empirical_models import NFWPhaseSpace\n",
    "unbiased_nfw = NFWPhaseSpace()\n",
    "\n",
    "\n",
    "model_feature_calling_sequence = ['centrals_occupation', 'satellites_occupation', \n",
    "                                 'centrals_profile', 'satellites_profile', 'satellites_profile2']\n",
    "model = HodModelFactory(baseline_model_instance=baseline_model, \n",
    "                       satellites_profile=subhalo_phase_space, \n",
    "                       satellites_profile2=unbiased_nfw)\n"
   ]
  },
  {
   "cell_type": "code",
   "execution_count": 29,
   "metadata": {},
   "outputs": [
    {
     "data": {
      "text/plain": [
       "[u'centrals_occupation',\n",
       " u'satellites_occupation',\n",
       " u'centrals_profile',\n",
       " u'satellites_profile',\n",
       " 'satellites_profile2']"
      ]
     },
     "execution_count": 29,
     "metadata": {},
     "output_type": "execute_result"
    }
   ],
   "source": [
    "model._model_feature_calling_sequence"
   ]
  },
  {
   "cell_type": "code",
   "execution_count": 30,
   "metadata": {
    "collapsed": true
   },
   "outputs": [],
   "source": [
    "model.populate_mock(halocat)"
   ]
  },
  {
   "cell_type": "code",
   "execution_count": 31,
   "metadata": {
    "collapsed": true
   },
   "outputs": [],
   "source": [
    "model.mock.populate()"
   ]
  },
  {
   "cell_type": "code",
   "execution_count": 32,
   "metadata": {},
   "outputs": [
    {
     "data": {
      "text/plain": [
       "['halo_upid',\n",
       " 'halo_mvir_host_halo_bin_number',\n",
       " 'halo_num_satellites',\n",
       " 'halo_hostid',\n",
       " 'halo_mpeak',\n",
       " 'conc_NFWmodel',\n",
       " 'halo_num_centrals',\n",
       " 'halo_y',\n",
       " 'halo_x',\n",
       " 'halo_id',\n",
       " 'halo_vx',\n",
       " 'halo_vy',\n",
       " 'halo_vz',\n",
       " '_subhalo_inheritance_id',\n",
       " 'halo_mvir_host_halo',\n",
       " 'halo_rvir',\n",
       " 'halo_z',\n",
       " 'halo_mvir',\n",
       " 'gal_type',\n",
       " 'vx',\n",
       " 'host_centric_distance',\n",
       " 'vy',\n",
       " 'y',\n",
       " 'x',\n",
       " 'vz',\n",
       " 'z',\n",
       " 'real_subhalo']"
      ]
     },
     "execution_count": 32,
     "metadata": {},
     "output_type": "execute_result"
    }
   ],
   "source": [
    "model.mock.galaxy_table.keys()"
   ]
  },
  {
   "cell_type": "code",
   "execution_count": null,
   "metadata": {
    "collapsed": true
   },
   "outputs": [],
   "source": []
  }
 ],
 "metadata": {
  "anaconda-cloud": {},
  "kernelspec": {
   "display_name": "Python [conda root]",
   "language": "python",
   "name": "conda-root-py"
  },
  "language_info": {
   "codemirror_mode": {
    "name": "ipython",
    "version": 2
   },
   "file_extension": ".py",
   "mimetype": "text/x-python",
   "name": "python",
   "nbconvert_exporter": "python",
   "pygments_lexer": "ipython2",
   "version": "2.7.13"
  }
 },
 "nbformat": 4,
 "nbformat_minor": 2
}
