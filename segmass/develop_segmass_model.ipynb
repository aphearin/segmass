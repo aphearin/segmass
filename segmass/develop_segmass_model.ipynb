{
 "cells": [
  {
   "cell_type": "code",
   "execution_count": 1,
   "metadata": {},
   "outputs": [],
   "source": [
    "%matplotlib inline\n",
    "\n",
    "from halotools.empirical_models import PrebuiltHodModelFactory, HodModelFactory\n",
    "from halotools.sim_manager import CachedHaloCatalog\n",
    "from halotools.empirical_models import SubhaloPhaseSpace\n",
    "\n",
    "logmmin, logmmax = 10.6, 15.2\n",
    "subocc_model = SubhaloPhaseSpace('satellites', np.logspace(logmmin, logmmax, 15))\n",
    "\n",
    "baseline_model = PrebuiltHodModelFactory('cacciato09')\n",
    "model = HodModelFactory(baseline_model_instance=baseline_model, \n",
    "                       satellites_profile=subocc_model)\n",
    "\n",
    "model.populate_mock(CachedHaloCatalog(simname='bolplanck'))"
   ]
  },
  {
   "cell_type": "code",
   "execution_count": 2,
   "metadata": {
    "collapsed": true
   },
   "outputs": [],
   "source": [
    "gals = model.mock.galaxy_table"
   ]
  },
  {
   "cell_type": "code",
   "execution_count": null,
   "metadata": {
    "collapsed": true
   },
   "outputs": [],
   "source": []
  }
 ],
 "metadata": {
  "anaconda-cloud": {},
  "kernelspec": {
   "display_name": "Python [conda root]",
   "language": "python",
   "name": "conda-root-py"
  },
  "language_info": {
   "codemirror_mode": {
    "name": "ipython",
    "version": 2
   },
   "file_extension": ".py",
   "mimetype": "text/x-python",
   "name": "python",
   "nbconvert_exporter": "python",
   "pygments_lexer": "ipython2",
   "version": "2.7.13"
  }
 },
 "nbformat": 4,
 "nbformat_minor": 2
}
